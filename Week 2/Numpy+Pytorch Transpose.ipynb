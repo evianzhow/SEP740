{
 "cells": [
  {
   "cell_type": "markdown",
   "id": "31cc93b4",
   "metadata": {},
   "source": [
    "# Matrix Transpose with NumPy and PyTorch\n",
    "\n",
    "Matrix transpose is a fundamental operation in linear algebra, involving swapping the rows and columns of a matrix. In Python, you can perform matrix transpose easily using libraries like NumPy and PyTorch.\n",
    "\n",
    "## NumPy\n",
    "\n",
    "NumPy is a powerful library for numerical computing in Python. You can use it to create and manipulate arrays, including transposing matrices.\n",
    "\n",
    "### Transposing a Matrix with NumPy\n",
    "\n",
    "To transpose a matrix with NumPy, you can use the `numpy.transpose()` function or simply `.T` attribute.\n",
    "\n",
    "Useful Applications:\n",
    "- Transposing matrices is crucial for operations like matrix multiplication, where the dimensions of matrices need to align correctly.\n",
    "- It's used in data manipulation and feature engineering in data science and machine learning.\n",
    "\n",
    "References:\n",
    "- [NumPy Documentation: NumPy Transpose](https://numpy.org/doc/stable/reference/generated/numpy.transpose.html)\n",
    "\n",
    "## PyTorch\n",
    "\n",
    "PyTorch is another popular library, particularly for deep learning. It offers tensor operations similar to NumPy.\n",
    "\n",
    "### Transposing a Matrix with PyTorch\n",
    "\n",
    "To transpose a matrix with PyTorch, you can use the `.t()` method or the `torch.transpose()` function.\n",
    "\n",
    "Useful Applications:\n",
    "- PyTorch is widely used in deep learning, and matrix transpose is essential for neural network operations like weight initialization and gradient computations.\n",
    "\n",
    "References:\n",
    "- [PyTorch Documentation: PyTorch Transpose](https://pytorch.org/docs/stable/generated/torch.transpose.html)\n"
   ]
  },
  {
   "cell_type": "code",
   "execution_count": null,
   "id": "8978fcec",
   "metadata": {},
   "outputs": [],
   "source": []
  },
  {
   "cell_type": "code",
   "execution_count": null,
   "id": "ba976d80",
   "metadata": {},
   "outputs": [],
   "source": []
  },
  {
   "cell_type": "code",
   "execution_count": null,
   "id": "0eb9cc39",
   "metadata": {},
   "outputs": [],
   "source": []
  },
  {
   "cell_type": "code",
   "execution_count": null,
   "id": "4666293f",
   "metadata": {},
   "outputs": [],
   "source": []
  },
  {
   "cell_type": "code",
   "execution_count": null,
   "id": "5843ef3f",
   "metadata": {},
   "outputs": [],
   "source": []
  },
  {
   "cell_type": "code",
   "execution_count": null,
   "id": "75b37875",
   "metadata": {},
   "outputs": [],
   "source": []
  },
  {
   "cell_type": "code",
   "execution_count": null,
   "id": "e1ea870c",
   "metadata": {},
   "outputs": [],
   "source": []
  },
  {
   "cell_type": "code",
   "execution_count": 1,
   "id": "f446fc67",
   "metadata": {},
   "outputs": [
    {
     "name": "stdout",
     "output_type": "stream",
     "text": [
      "Original Matrix:\n",
      "[[1 2 3]\n",
      " [4 5 6]]\n",
      "\n",
      "Transposed Matrix:\n",
      "[[1 4]\n",
      " [2 5]\n",
      " [3 6]]\n"
     ]
    }
   ],
   "source": [
    "import numpy as np\n",
    "\n",
    "# Example 1: Transposing a 2x3 matrix\n",
    "matrix1 = np.array([[1, 2, 3],\n",
    "                   [4, 5, 6]])\n",
    "\n",
    "# Using np.transpose() function\n",
    "transpose_matrix1 = np.transpose(matrix1)\n",
    "\n",
    "# Display the original and transposed matrices\n",
    "print(\"Original Matrix:\")\n",
    "print(matrix1)\n",
    "\n",
    "print(\"\\nTransposed Matrix:\")\n",
    "print(transpose_matrix1)\n"
   ]
  },
  {
   "cell_type": "code",
   "execution_count": 2,
   "id": "dad395fe",
   "metadata": {},
   "outputs": [
    {
     "data": {
      "text/plain": [
       "(2, 3)"
      ]
     },
     "execution_count": 2,
     "metadata": {},
     "output_type": "execute_result"
    }
   ],
   "source": [
    "matrix1.shape"
   ]
  },
  {
   "cell_type": "code",
   "execution_count": 3,
   "id": "18fb4ef1",
   "metadata": {},
   "outputs": [
    {
     "name": "stdout",
     "output_type": "stream",
     "text": [
      "Original Matrix:\n",
      "[[ 7  8]\n",
      " [ 9 10]\n",
      " [11 12]]\n",
      "\n",
      "Transposed Matrix:\n",
      "[[ 7  9 11]\n",
      " [ 8 10 12]]\n"
     ]
    }
   ],
   "source": [
    "import numpy as np\n",
    "\n",
    "# Example 2: Transposing a 3x2 matrix\n",
    "matrix2 = np.array([[7, 8],\n",
    "                   [9, 10],\n",
    "                   [11, 12]])\n",
    "\n",
    "# Using the .T attribute\n",
    "transpose_matrix2 = matrix2.T\n",
    "\n",
    "# Display the original and transposed matrices\n",
    "print(\"Original Matrix:\")\n",
    "print(matrix2)\n",
    "\n",
    "print(\"\\nTransposed Matrix:\")\n",
    "print(transpose_matrix2)\n"
   ]
  },
  {
   "cell_type": "code",
   "execution_count": 4,
   "id": "b1099e40",
   "metadata": {},
   "outputs": [
    {
     "data": {
      "text/plain": [
       "(3, 2)"
      ]
     },
     "execution_count": 4,
     "metadata": {},
     "output_type": "execute_result"
    }
   ],
   "source": [
    "matrix2.shape"
   ]
  },
  {
   "cell_type": "code",
   "execution_count": 18,
   "id": "67e37569",
   "metadata": {},
   "outputs": [
    {
     "name": "stdout",
     "output_type": "stream",
     "text": [
      "Original Matrix:\n",
      "[[2 6 4 5]\n",
      " [6 4 9 5]\n",
      " [5 1 6 2]]\n",
      "\n",
      "Transposed Matrix:\n",
      "[[2 6 5]\n",
      " [6 4 1]\n",
      " [4 9 6]\n",
      " [5 5 2]]\n"
     ]
    }
   ],
   "source": [
    "import numpy as np\n",
    "\n",
    "# Example 3: Transposing a random 3x4 matrix\n",
    "matrix3 = np.random.randint(0, 10, (3, 4))\n",
    "\n",
    "# Using np.transpose() function\n",
    "transpose_matrix3 = np.transpose(matrix3)\n",
    "\n",
    "# Display the original and transposed matrices\n",
    "print(\"Original Matrix:\")\n",
    "print(matrix3)\n",
    "\n",
    "print(\"\\nTransposed Matrix:\")\n",
    "print(transpose_matrix3)\n"
   ]
  },
  {
   "cell_type": "code",
   "execution_count": 6,
   "id": "80a803d1",
   "metadata": {},
   "outputs": [
    {
     "data": {
      "text/plain": [
       "(4, 3)"
      ]
     },
     "execution_count": 6,
     "metadata": {},
     "output_type": "execute_result"
    }
   ],
   "source": [
    "transpose_matrix3.shape"
   ]
  },
  {
   "cell_type": "code",
   "execution_count": null,
   "id": "6a92af08",
   "metadata": {},
   "outputs": [],
   "source": [
    "import numpy as np\n",
    "\n",
    "# Example 4: Transposing a 1x3 matrix\n",
    "matrix4 = np.array([[1, 2, 3]])\n",
    "\n",
    "# Using the .T attribute\n",
    "transpose_matrix4 = matrix4.T\n",
    "\n",
    "# Display the original and transposed matrices\n",
    "print(\"Original Matrix:\")\n",
    "print(matrix4)\n",
    "\n",
    "print(\"\\nTransposed Matrix:\")\n",
    "print(transpose_matrix4)\n"
   ]
  },
  {
   "cell_type": "code",
   "execution_count": 1,
   "id": "90a4987f",
   "metadata": {},
   "outputs": [
    {
     "name": "stdout",
     "output_type": "stream",
     "text": [
      "Original Matrix:\n",
      "[[4]\n",
      " [5]\n",
      " [6]]\n",
      "\n",
      "Transposed Matrix:\n",
      "[[4 5 6]]\n"
     ]
    }
   ],
   "source": [
    "import numpy as np\n",
    "\n",
    "# Example 5: Transposing a 3x1 matrix\n",
    "matrix5 = np.array([[4],\n",
    "                   [5],\n",
    "                   [6]])\n",
    "\n",
    "# Using the .T attribute\n",
    "transpose_matrix5 = matrix5.T\n",
    "\n",
    "# Display the original and transposed matrices\n",
    "print(\"Original Matrix:\")\n",
    "print(matrix5)\n",
    "\n",
    "print(\"\\nTransposed Matrix:\")\n",
    "print(transpose_matrix5)\n"
   ]
  },
  {
   "cell_type": "code",
   "execution_count": 2,
   "id": "f5c6561a",
   "metadata": {},
   "outputs": [
    {
     "name": "stdout",
     "output_type": "stream",
     "text": [
      "Original Tensor:\n",
      "tensor([[1, 2, 3],\n",
      "        [4, 5, 6]])\n",
      "\n",
      "Transposed Tensor:\n",
      "tensor([[1, 4],\n",
      "        [2, 5],\n",
      "        [3, 6]])\n"
     ]
    }
   ],
   "source": [
    "import torch\n",
    "\n",
    "# Example 1: Transposing a 2x3 tensor\n",
    "tensor1 = torch.tensor([[1, 2, 3],\n",
    "                       [4, 5, 6]])\n",
    "\n",
    "# Using the .t() method\n",
    "transpose_tensor1 = tensor1.t()\n",
    "\n",
    "# Display the original and transposed tensors\n",
    "print(\"Original Tensor:\")\n",
    "print(tensor1)\n",
    "\n",
    "print(\"\\nTransposed Tensor:\")\n",
    "print(transpose_tensor1)\n"
   ]
  },
  {
   "cell_type": "code",
   "execution_count": 24,
   "id": "2a1f2216",
   "metadata": {},
   "outputs": [
    {
     "name": "stdout",
     "output_type": "stream",
     "text": [
      "Original Tensor:\n",
      "tensor([[ 7,  8],\n",
      "        [ 9, 10],\n",
      "        [11, 12]])\n",
      "\n",
      "Transposed Tensor:\n",
      "tensor([[ 7,  9, 11],\n",
      "        [ 8, 10, 12]])\n"
     ]
    }
   ],
   "source": [
    "import torch\n",
    "\n",
    "# Example 2: Transposing a 3x2 tensor\n",
    "tensor2 = torch.tensor([[7, 8],\n",
    "                       [9, 10],\n",
    "                       [11, 12]])\n",
    "\n",
    "# Using the torch.transpose() function\n",
    "transpose_tensor2 = torch.transpose(tensor2, 0, 1)\n",
    "\n",
    "# Display the original and transposed tensors\n",
    "print(\"Original Tensor:\")\n",
    "print(tensor2)\n",
    "\n",
    "print(\"\\nTransposed Tensor:\")\n",
    "print(transpose_tensor2)\n"
   ]
  },
  {
   "cell_type": "code",
   "execution_count": 6,
   "id": "fe812a9d",
   "metadata": {},
   "outputs": [
    {
     "name": "stdout",
     "output_type": "stream",
     "text": [
      "Original Tensor:\n",
      "tensor([[[-0.7917,  1.1430,  1.2634],\n",
      "         [ 0.0265,  0.9772, -1.2448]],\n",
      "\n",
      "        [[-1.3009,  0.3490, -0.3327],\n",
      "         [ 0.3663,  0.6600, -1.3501]],\n",
      "\n",
      "        [[-0.0458,  0.3015,  1.2228],\n",
      "         [-0.3796,  1.1431,  0.2378]]])\n",
      "\n",
      "Transposed Tensor:\n",
      "tensor([[[-0.7917,  0.0265],\n",
      "         [ 1.1430,  0.9772],\n",
      "         [ 1.2634, -1.2448]],\n",
      "\n",
      "        [[-1.3009,  0.3663],\n",
      "         [ 0.3490,  0.6600],\n",
      "         [-0.3327, -1.3501]],\n",
      "\n",
      "        [[-0.0458, -0.3796],\n",
      "         [ 0.3015,  1.1431],\n",
      "         [ 1.2228,  0.2378]]])\n"
     ]
    }
   ],
   "source": [
    "import torch\n",
    "\n",
    "# Example 3: Transposing a random 3x4 tensor\n",
    "tensor3 = torch.randn(3, 2, 3)\n",
    "\n",
    "# Using the .t() method\n",
    "# transpose_tensor3 = tensor3.t()\n",
    "transpose_tensor3 = torch.transpose(tensor3, 1, 2)\n",
    "\n",
    "# Display the original and transposed tensors\n",
    "print(\"Original Tensor:\")\n",
    "print(tensor3)\n",
    "\n",
    "print(\"\\nTransposed Tensor:\")\n",
    "print(transpose_tensor3)\n"
   ]
  },
  {
   "cell_type": "code",
   "execution_count": null,
   "id": "313a2887",
   "metadata": {},
   "outputs": [],
   "source": [
    "import torch\n",
    "\n",
    "# Example 4: Transposing a 1x3 tensor\n",
    "tensor4 = torch.tensor([[1, 2, 3]])\n",
    "\n",
    "# Using the .t() method\n",
    "transpose_tensor4 = tensor4.t()\n",
    "\n",
    "# Display the original and transposed tensors\n",
    "print(\"Original Tensor:\")\n",
    "print(tensor4)\n",
    "\n",
    "print(\"\\nTransposed Tensor:\")\n",
    "print(transpose_tensor4)\n"
   ]
  },
  {
   "cell_type": "code",
   "execution_count": null,
   "id": "52c2e4c2",
   "metadata": {},
   "outputs": [],
   "source": [
    "import torch\n",
    "\n",
    "# Example 5: Transposing a 3x1 tensor\n",
    "tensor5 = torch.tensor([[4],\n",
    "                       [5],\n",
    "                       [6]])\n",
    "\n",
    "# Using the .t() method\n",
    "transpose_tensor5 = tensor5.t()\n",
    "\n",
    "# Display the original and transposed tensors\n",
    "print(\"Original Tensor:\")\n",
    "print(tensor5)\n",
    "\n",
    "print(\"\\nTransposed Tensor:\")\n",
    "print(transpose_tensor5)\n"
   ]
  },
  {
   "cell_type": "code",
   "execution_count": null,
   "id": "b05cec1c",
   "metadata": {},
   "outputs": [],
   "source": []
  }
 ],
 "metadata": {
  "kernelspec": {
   "display_name": "Python 3 (ipykernel)",
   "language": "python",
   "name": "python3"
  },
  "language_info": {
   "codemirror_mode": {
    "name": "ipython",
    "version": 3
   },
   "file_extension": ".py",
   "mimetype": "text/x-python",
   "name": "python",
   "nbconvert_exporter": "python",
   "pygments_lexer": "ipython3",
   "version": "3.12.4"
  }
 },
 "nbformat": 4,
 "nbformat_minor": 5
}
