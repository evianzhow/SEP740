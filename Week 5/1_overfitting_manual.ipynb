{
 "cells": [
  {
   "cell_type": "code",
   "execution_count": 197,
   "metadata": {
    "id": "YeuAheYyhdZw"
   },
   "outputs": [],
   "source": [
    "# Import necessary libraries for the task.\n",
    "import torch  # Import PyTorch for deep learning.\n",
    "import torch.nn as nn  # Import the neural network module from PyTorch.\n",
    "import numpy as np  # Import NumPy for numerical operations.\n"
   ]
  },
  {
   "cell_type": "code",
   "execution_count": 198,
   "metadata": {
    "id": "MU7rvmWuhjud"
   },
   "outputs": [
    {
     "name": "stdout",
     "output_type": "stream",
     "text": [
      "   sepal_length  sepal_width  petal_length  petal_width species\n",
      "0           5.1          3.5           1.4          0.2  setosa\n",
      "1           4.9          3.0           1.4          0.2  setosa\n",
      "2           4.7          3.2           1.3          0.2  setosa\n",
      "3           4.6          3.1           1.5          0.2  setosa\n",
      "4           5.0          3.6           1.4          0.2  setosa\n"
     ]
    }
   ],
   "source": [
    "# Load the Iris dataset using Seaborn.\n",
    "import seaborn as sns\n",
    "iris_data = sns.load_dataset('iris')\n",
    "\n",
    "# Display the data structure\n",
    "print(iris_data.head())\n",
    "\n",
    "# Convert the dataset from a pandas dataframe to a PyTorch tensor.\n",
    "data = torch.tensor(iris_data[iris_data.columns[0:4]].values).float()\n",
    "\n",
    "# Transform the species labels into numerical values.\n",
    "labels = torch.zeros(len(data), dtype=torch.long)\n",
    "labels[iris_data.species == 'versicolor'] = 1\n",
    "labels[iris_data.species == 'virginica'] = 2\n"
   ]
  },
  {
   "cell_type": "code",
   "execution_count": 199,
   "metadata": {},
   "outputs": [
    {
     "data": {
      "text/plain": [
       "tensor([0, 0, 0, 0, 0, 0, 0, 0, 0, 0, 0, 0, 0, 0, 0, 0, 0, 0, 0, 0, 0, 0, 0, 0,\n",
       "        0, 0, 0, 0, 0, 0, 0, 0, 0, 0, 0, 0, 0, 0, 0, 0, 0, 0, 0, 0, 0, 0, 0, 0,\n",
       "        0, 0, 1, 1, 1, 1, 1, 1, 1, 1, 1, 1, 1, 1, 1, 1, 1, 1, 1, 1, 1, 1, 1, 1,\n",
       "        1, 1, 1, 1, 1, 1, 1, 1, 1, 1, 1, 1, 1, 1, 1, 1, 1, 1, 1, 1, 1, 1, 1, 1,\n",
       "        1, 1, 1, 1, 2, 2, 2, 2, 2, 2, 2, 2, 2, 2, 2, 2, 2, 2, 2, 2, 2, 2, 2, 2,\n",
       "        2, 2, 2, 2, 2, 2, 2, 2, 2, 2, 2, 2, 2, 2, 2, 2, 2, 2, 2, 2, 2, 2, 2, 2,\n",
       "        2, 2, 2, 2, 2, 2])"
      ]
     },
     "execution_count": 199,
     "metadata": {},
     "output_type": "execute_result"
    }
   ],
   "source": [
    "labels"
   ]
  },
  {
   "cell_type": "markdown",
   "metadata": {
    "id": "JiAFAHB20DQc"
   },
   "source": [
    "# Separate data into train and test"
   ]
  },
  {
   "cell_type": "code",
   "execution_count": 200,
   "metadata": {
    "id": "mwhgV43SXbCN"
   },
   "outputs": [],
   "source": [
    "# Set the proportion of data for training (e.g., 80% for training).\n",
    "training_proportion = 0.8\n",
    "\n",
    "# Unstratified Split\n",
    "# Calculate the number of training examples based on the proportion.\n",
    "num_training = int(len(labels) * training_proportion)\n",
    "\n",
    "# Initialize a boolean vector to select data and labels for training.\n",
    "train_test_bool = np.zeros(len(labels), dtype=bool)\n",
    "\n",
    "# Randomly select samples for training.\n",
    "train_indices = np.random.choice(range(len(labels)), num_training, replace=False)\n",
    "train_test_bool[train_indices] = True\n"
   ]
  },
  {
   "cell_type": "code",
   "execution_count": 201,
   "metadata": {},
   "outputs": [],
   "source": [
    "# Stratified Shuffle Split\n",
    "# from sklearn.model_selection import StratifiedShuffleSplit\n",
    "\n",
    "# # Use StratifiedShuffleSplit to perform stratified sampling\n",
    "# sss = StratifiedShuffleSplit(n_splits=1, test_size=1-training_proportion, random_state=42)\n",
    "\n",
    "# # Get the indices for train and test sets\n",
    "# for train_index, test_index in sss.split(data, labels):\n",
    "#     train_test_bool = np.zeros(len(labels), dtype=bool)\n",
    "#     train_test_bool[train_index] = True\n"
   ]
  },
  {
   "cell_type": "code",
   "execution_count": 202,
   "metadata": {},
   "outputs": [
    {
     "data": {
      "text/plain": [
       "array([False,  True,  True,  True,  True,  True,  True,  True,  True,\n",
       "        True,  True,  True,  True,  True, False,  True,  True,  True,\n",
       "        True,  True,  True,  True,  True,  True, False, False,  True,\n",
       "        True,  True,  True, False, False,  True,  True,  True,  True,\n",
       "       False, False,  True,  True,  True,  True,  True, False,  True,\n",
       "        True, False,  True,  True,  True,  True,  True,  True,  True,\n",
       "        True,  True,  True,  True,  True,  True,  True,  True,  True,\n",
       "        True,  True,  True,  True,  True,  True, False, False, False,\n",
       "        True, False,  True,  True,  True,  True, False,  True,  True,\n",
       "       False,  True,  True, False, False,  True,  True,  True,  True,\n",
       "        True, False,  True,  True,  True,  True,  True,  True,  True,\n",
       "        True, False, False,  True,  True,  True,  True,  True,  True,\n",
       "       False,  True,  True,  True,  True,  True, False,  True,  True,\n",
       "        True,  True,  True,  True,  True,  True,  True,  True,  True,\n",
       "        True,  True,  True,  True,  True,  True,  True,  True, False,\n",
       "        True, False, False,  True, False, False,  True, False,  True,\n",
       "        True,  True, False,  True,  True,  True])"
      ]
     },
     "execution_count": 202,
     "metadata": {},
     "output_type": "execute_result"
    }
   ],
   "source": [
    "train_test_bool"
   ]
  },
  {
   "cell_type": "code",
   "execution_count": 203,
   "metadata": {},
   "outputs": [
    {
     "data": {
      "image/png": "[encoded data removed]",
      "text/plain": [
       "<Figure size 640x480 with 1 Axes>"
      ]
     },
     "metadata": {},
     "output_type": "display_data"
    }
   ],
   "source": [
    "import numpy as np\n",
    "import matplotlib.pyplot as plt\n",
    "\n",
    "# Get the unique labels and their counts\n",
    "unique_labels, counts = torch.unique(labels[train_test_bool], return_counts=True)\n",
    "\n",
    "# Convert to numpy for easier use with matplotlib (optional)\n",
    "unique_labels = unique_labels.numpy()\n",
    "counts = counts.numpy()\n",
    "\n",
    "# Plotting\n",
    "plt.bar(unique_labels, counts)\n",
    "plt.xlabel('Categories')\n",
    "plt.ylabel('Count')\n",
    "plt.title('Category Distribution')\n",
    "plt.show()"
   ]
  },
  {
   "cell_type": "code",
   "execution_count": 204,
   "metadata": {
    "id": "LPcj_f92bYs0"
   },
   "outputs": [
    {
     "name": "stdout",
     "output_type": "stream",
     "text": [
      "Average of full dataset:\n",
      "tensor(1.)\n",
      " \n",
      "Average of training dataset:\n",
      "tensor(0.9917)\n",
      " \n",
      "Average of testing dataset:\n",
      "tensor(1.0333)\n"
     ]
    }
   ],
   "source": [
    "# Check the balance of species labels in the dataset.\n",
    "print('Average of full dataset:')\n",
    "print(torch.mean(labels.float()))  # Should be 1 by definition\n",
    "print(' ')\n",
    "\n",
    "print('Average of training dataset:')\n",
    "print(torch.mean(labels[train_test_bool].float()))  # Should also be 1\n",
    "print(' ')\n",
    "\n",
    "print('Average of testing dataset:')\n",
    "print(torch.mean(labels[~train_test_bool].float()))  # Should also be 1\n",
    "\n",
    "# Not straitfied sampling!"
   ]
  },
  {
   "cell_type": "code",
   "execution_count": 205,
   "metadata": {
    "id": "v0JMIGb1iV_9"
   },
   "outputs": [],
   "source": [
    "# Define the architecture of the artificial neural network (ANN) model.\n",
    "custom_ann_model = nn.Sequential(\n",
    "    nn.Linear(4, 64),   # Input layer\n",
    "    nn.ReLU(),          # ReLU activation\n",
    "    nn.Linear(64, 64),  # Hidden layer\n",
    "    nn.ReLU(),          # ReLU activation\n",
    "    nn.Linear(64, 3)    # Output layer\n",
    ")\n",
    "\n",
    "# Define the loss function (Cross-Entropy Loss).\n",
    "loss_function = nn.CrossEntropyLoss()\n",
    "\n",
    "# Define the optimizer (Stochastic Gradient Descent).\n",
    "optimizer = torch.optim.SGD(custom_ann_model.parameters(), lr=0.01)\n"
   ]
  },
  {
   "cell_type": "code",
   "execution_count": 206,
   "metadata": {
    "id": "iyxr6_P9b-x5"
   },
   "outputs": [
    {
     "name": "stdout",
     "output_type": "stream",
     "text": [
      "Shape of the entire dataset:\n",
      "torch.Size([150, 4])\n",
      "Shape of the training set:\n",
      "torch.Size([120, 4])\n",
      "Shape of the test set:\n",
      "torch.Size([30, 4])\n"
     ]
    }
   ],
   "source": [
    "# Print the shapes of the entire dataset, training set, and test set.\n",
    "print('Shape of the entire dataset:')\n",
    "print(data.shape)\n",
    "\n",
    "print('Shape of the training set:')\n",
    "print(data[train_test_bool, :].shape)\n",
    "\n",
    "print('Shape of the test set:')\n",
    "print(data[~train_test_bool, :].shape)\n"
   ]
  },
  {
   "cell_type": "markdown",
   "metadata": {
    "id": "bbx3Zkc_0UT8"
   },
   "source": [
    "# Train and test the model"
   ]
  },
  {
   "cell_type": "code",
   "execution_count": 207,
   "metadata": {
    "id": "cVD1nFTli7TO"
   },
   "outputs": [],
   "source": [
    "# Set the number of training epochs.\n",
    "num_epochs = 1000\n",
    "\n",
    "# Initialize losses and ongoing accuracy.\n",
    "losses = torch.zeros(num_epochs)\n",
    "ongoing_accuracy = []\n",
    "\n",
    "# Loop over epochs for training.\n",
    "for epoch_idx in range(num_epochs):\n",
    "\n",
    "    # Forward pass through the model using the training data.\n",
    "    predictions = custom_ann_model(data[train_test_bool, :])\n",
    "\n",
    "    # Compute accuracy for the current epoch.\n",
    "    epoch_accuracy = 100 * torch.mean(\n",
    "        (torch.argmax(predictions, axis=1) == labels[train_test_bool]).float())\n",
    "    ongoing_accuracy.append(epoch_accuracy)\n",
    "\n",
    "    # Compute the Cross-Entropy loss.\n",
    "    loss = loss_function(predictions, labels[train_test_bool])\n",
    "    losses[epoch_idx] = loss\n",
    "\n",
    "    # Backpropagation.\n",
    "    optimizer.zero_grad()\n",
    "    loss.backward()\n",
    "    optimizer.step()\n"
   ]
  },
  {
   "cell_type": "code",
   "execution_count": 208,
   "metadata": {
    "id": "vXku7xIdcu7Y"
   },
   "outputs": [],
   "source": [
    "# Final forward pass using the training data.\n",
    "train_predictions = custom_ann_model(data[train_test_bool, :])\n",
    "training_accuracy = 100 * torch.mean(\n",
    "    (torch.argmax(train_predictions, axis=1) == labels[train_test_bool]).float())\n",
    "\n",
    "# Final forward pass using the test data.\n",
    "test_predictions = custom_ann_model(data[~train_test_bool, :])\n",
    "testing_accuracy = 100 * torch.mean(\n",
    "    (torch.argmax(test_predictions, axis=1) == labels[~train_test_bool]).float())\n"
   ]
  },
  {
   "cell_type": "code",
   "execution_count": 209,
   "metadata": {
    "id": "JYouZAY4i3jM"
   },
   "outputs": [
    {
     "name": "stdout",
     "output_type": "stream",
     "text": [
      "Final TRAIN accuracy: 97.5%\n",
      "Final TEST accuracy:  100%\n"
     ]
    }
   ],
   "source": [
    "# Report the final training and testing accuracies.\n",
    "print('Final TRAIN accuracy: %g%%' % training_accuracy)\n",
    "print('Final TEST accuracy:  %g%%' % testing_accuracy)\n"
   ]
  },
  {
   "cell_type": "code",
   "execution_count": 210,
   "metadata": {
    "id": "kcbD9nZmd9nu"
   },
   "outputs": [],
   "source": [
    "# normally also inspect losses and accuracy by epoch, etc etc etc."
   ]
  },
  {
   "cell_type": "code",
   "execution_count": 211,
   "metadata": {},
   "outputs": [
    {
     "name": "stdout",
     "output_type": "stream",
     "text": [
      "Category 0: 10.0/10 (100.00%)\n",
      "Category 1: 9.0/9 (100.00%)\n",
      "Category 2: 11.0/11 (100.00%)\n"
     ]
    }
   ],
   "source": [
    "# Get the predicted labels\n",
    "predicted_labels = torch.argmax(test_predictions, axis=1)\n",
    "\n",
    "# Get the true labels for the test set\n",
    "test_labels = labels[~train_test_bool]\n",
    "\n",
    "# Calculate accuracy for each category\n",
    "categories = [0, 1, 2]  # Corresponding to setosa, versicolor, virginica\n",
    "category_accuracies = {}\n",
    "\n",
    "for category in categories:\n",
    "    # Find indices where true labels are the current category\n",
    "    category_indices = (test_labels == category).nonzero().squeeze()\n",
    "    \n",
    "    # Count correct predictions for this category\n",
    "    correct_count = torch.sum((predicted_labels[category_indices] == test_labels[category_indices]).float()).item()\n",
    "    \n",
    "    # Total count for this category in the test set\n",
    "    total_count = len(category_indices)\n",
    "    \n",
    "    # Calculate and store accuracy\n",
    "    accuracy = correct_count / total_count if total_count > 0 else 0\n",
    "    category_accuracies[category] = (correct_count, total_count, accuracy)\n",
    "\n",
    "# Display results\n",
    "for category, (correct, total, accuracy) in category_accuracies.items():\n",
    "    print(f\"Category {category}: {correct}/{total} ({accuracy:.2%})\")"
   ]
  },
  {
   "cell_type": "markdown",
   "metadata": {
    "id": "jwTbABK7fqzZ"
   },
   "source": [
    "# Additional explorations"
   ]
  },
  {
   "cell_type": "code",
   "execution_count": 212,
   "metadata": {
    "id": "jWC_SDDCfrAo"
   },
   "outputs": [],
   "source": [
    "# 1) Randomly assigning data samples to be in the train vs test phase produced a statistical balance, but it was \n",
    "#    not perfect. Write an algorithm that will guarantee a balance of flower types while also randomly assigning\n",
    "#    samples to be in train vs. test.\n",
    "# \n",
    "# 2) Revert the code to its original form -- with the strong imbalance in flower types. Then train the model. What are\n",
    "#    the train and test accuracies? Compute the accuracy separately for each type of flower to see whether the model\n",
    "#    learned some categories, or whether it performed equally on all three categories. Are you surprised at the results? \n",
    "# "
   ]
  }
 ],
 "metadata": {
  "colab": {
   "authorship_tag": "ABX9TyNk9aAiPToKpfieCvxrzbDR",
   "collapsed_sections": [],
   "name": "DUDL_overfitting_manual.ipynb",
   "provenance": [
    {
     "file_id": "1YpHocGI4rApOxIBb1ZghCU5L-hFnv4CK",
     "timestamp": 1616608248670
    }
   ]
  },
  "kernelspec": {
   "display_name": "Python 3 (ipykernel)",
   "language": "python",
   "name": "python3"
  },
  "language_info": {
   "codemirror_mode": {
    "name": "ipython",
    "version": 3
   },
   "file_extension": ".py",
   "mimetype": "text/x-python",
   "name": "python",
   "nbconvert_exporter": "python",
   "pygments_lexer": "ipython3",
   "version": "3.12.4"
  }
 },
 "nbformat": 4,
 "nbformat_minor": 4
}
