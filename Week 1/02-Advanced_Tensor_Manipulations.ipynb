{
 "cells": [
  {
   "cell_type": "markdown",
   "id": "bbba1d24",
   "metadata": {},
   "source": [
    "# 02 - Advanced Tensor Manipulations in PyTorch\n",
    "\n",
    "This notebook covers advanced tensor manipulation techniques in PyTorch, such as broadcasting, concatenation, stacking, and splitting. Understanding these operations is crucial for efficient tensor operations and preparing data for deep learning models."
   ]
  },
  {
   "cell_type": "markdown",
   "id": "9835118b",
   "metadata": {},
   "source": [
    "## 1. Broadcasting in PyTorch\n",
    "\n",
    "Broadcasting is a powerful feature that allows PyTorch to perform operations on tensors of different shapes by automatically expanding them to a compatible shape. This is particularly useful for element-wise operations where the shapes do not initially match.\n"
   ]
  },
  {
   "cell_type": "code",
   "execution_count": 2,
   "id": "fb9c6c6f",
   "metadata": {},
   "outputs": [
    {
     "name": "stdout",
     "output_type": "stream",
     "text": [
      "Tensor a:\n",
      " tensor([[1, 2, 3],\n",
      "        [4, 5, 6]])\n",
      "Tensor b: tensor([1, 2, 3])\n",
      "Broadcasted Addition Result:\n",
      " tensor([[2, 4, 6],\n",
      "        [5, 7, 9]])\n"
     ]
    }
   ],
   "source": [
    "# Example: Broadcasting in PyTorch\n",
    "import torch\n",
    "\n",
    "# Create two tensors of different shapes\n",
    "a = torch.tensor([[1, 2, 3], [4, 5, 6]])  # Shape: (2, 3)\n",
    "b = torch.tensor([1, 2, 3])              # Shape: (3)\n",
    "\n",
    "# Broadcasting addition\n",
    "result = a + b\n",
    "print('Tensor a:\\n', a)\n",
    "print('Tensor b:', b)\n",
    "print('Broadcasted Addition Result:\\n', result)"
   ]
  },
  {
   "cell_type": "markdown",
   "id": "25d03194",
   "metadata": {},
   "source": [
    "## 2. Concatenating Tensors\n",
    "\n",
    "Concatenation is the process of joining two or more tensors along a specific dimension. In PyTorch, the `torch.cat()` function is used for concatenation. The tensors being concatenated must have the same shape except in the dimension along which they are concatenated.\n"
   ]
  },
  {
   "cell_type": "code",
   "execution_count": 3,
   "id": "3c88b54a",
   "metadata": {},
   "outputs": [
    {
     "name": "stdout",
     "output_type": "stream",
     "text": [
      "Concatenated along rows:\n",
      " tensor([[1, 2],\n",
      "        [3, 4],\n",
      "        [5, 6],\n",
      "        [7, 8]])\n",
      "Concatenated along columns:\n",
      " tensor([[1, 2, 5, 6],\n",
      "        [3, 4, 7, 8]])\n"
     ]
    }
   ],
   "source": [
    "# Example: Concatenating Tensors\n",
    "x = torch.tensor([[1, 2], [3, 4]])\n",
    "y = torch.tensor([[5, 6], [7, 8]])\n",
    "\n",
    "# Concatenate along rows (dim=0)\n",
    "concat_rows = torch.cat((x, y), dim=0)\n",
    "print('Concatenated along rows:\\n', concat_rows)\n",
    "\n",
    "# Concatenate along columns (dim=1)\n",
    "concat_columns = torch.cat((x, y), dim=1)\n",
    "print('Concatenated along columns:\\n', concat_columns)"
   ]
  },
  {
   "cell_type": "markdown",
   "id": "dbd0d98e",
   "metadata": {},
   "source": [
    "## 3. Stacking Tensors\n",
    "\n",
    "Stacking is similar to concatenation, but it creates a new dimension for the tensors being stacked. The `torch.stack()` function is used to stack tensors along a new dimension. The tensors must have the same shape.\n"
   ]
  },
  {
   "cell_type": "code",
   "execution_count": 4,
   "id": "0d3d69d3",
   "metadata": {},
   "outputs": [
    {
     "name": "stdout",
     "output_type": "stream",
     "text": [
      "Stacked Tensors along new dimension 0:\n",
      " tensor([[1, 2, 3],\n",
      "        [4, 5, 6]])\n",
      "Stacked Tensors along new dimension 1:\n",
      " tensor([[1, 4],\n",
      "        [2, 5],\n",
      "        [3, 6]])\n"
     ]
    }
   ],
   "source": [
    "# Example: Stacking Tensors\n",
    "x = torch.tensor([1, 2, 3])\n",
    "y = torch.tensor([4, 5, 6])\n",
    "\n",
    "# Stack along a new dimension\n",
    "stacked = torch.stack((x, y), dim=0)\n",
    "print('Stacked Tensors along new dimension 0:\\n', stacked)\n",
    "\n",
    "# Stack along a different dimension\n",
    "stacked_dim1 = torch.stack((x, y), dim=1)\n",
    "print('Stacked Tensors along new dimension 1:\\n', stacked_dim1)"
   ]
  },
  {
   "cell_type": "markdown",
   "id": "67b52512",
   "metadata": {},
   "source": [
    "## 4. Splitting Tensors\n",
    "\n",
    "Splitting divides a tensor into a list of tensors along a specified dimension. PyTorch provides functions like `torch.split()` and `torch.chunk()` for splitting tensors.\n"
   ]
  },
  {
   "cell_type": "code",
   "execution_count": 8,
   "id": "f9220e8b",
   "metadata": {},
   "outputs": [
    {
     "name": "stdout",
     "output_type": "stream",
     "text": [
      "torch.Size([3, 3])\n",
      "Split Tensors into 3 parts along dim=0:\n",
      "tensor([[1, 2, 3]])\n",
      "tensor([[4, 5, 6]])\n",
      "tensor([[7, 8, 9]])\n",
      "\n",
      "Chunk Tensors into 3 parts along dim=1:\n",
      "tensor([[1],\n",
      "        [4],\n",
      "        [7]])\n",
      "tensor([[2],\n",
      "        [5],\n",
      "        [8]])\n",
      "tensor([[3],\n",
      "        [6],\n",
      "        [9]])\n"
     ]
    }
   ],
   "source": [
    "# Example: Splitting Tensors\n",
    "tensor = torch.tensor([[1, 2, 3], [4, 5, 6], [7, 8, 9]])\n",
    "print(tensor.shape)\n",
    "\n",
    "# Split into 3 equal parts along dim=0\n",
    "split_tensor = torch.split(tensor, split_size_or_sections=1, dim=0)\n",
    "print('Split Tensors into 3 parts along dim=0:')\n",
    "for part in split_tensor:\n",
    "    print(part)\n",
    "\n",
    "# Chunk into 3 parts along dim=1\n",
    "chunk_tensor = torch.chunk(tensor, chunks=3, dim=1)\n",
    "print('\\nChunk Tensors into 3 parts along dim=1:')\n",
    "for part in chunk_tensor:\n",
    "    print(part)"
   ]
  },
  {
   "cell_type": "markdown",
   "id": "40c1f4d0",
   "metadata": {},
   "source": [
    "## Exercises\n",
    "\n",
    "1. Create two tensors of shape (2, 3) and perform broadcasting multiplication with a tensor of shape (3).\n",
    "2. Concatenate three tensors along both rows and columns.\n",
    "3. Stack multiple tensors along a new dimension and explore the output.\n",
    "4. Split a tensor into unequal parts and check the resulting shapes."
   ]
  }
 ],
 "metadata": {
  "kernelspec": {
   "display_name": "Python 3 (ipykernel)",
   "language": "python",
   "name": "python3"
  },
  "language_info": {
   "codemirror_mode": {
    "name": "ipython",
    "version": 3
   },
   "file_extension": ".py",
   "mimetype": "text/x-python",
   "name": "python",
   "nbconvert_exporter": "python",
   "pygments_lexer": "ipython3",
   "version": "3.12.4"
  }
 },
 "nbformat": 4,
 "nbformat_minor": 5
}
